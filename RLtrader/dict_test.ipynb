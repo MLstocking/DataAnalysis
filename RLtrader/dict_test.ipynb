{
 "cells": [
  {
   "cell_type": "code",
   "execution_count": 1,
   "metadata": {
    "ExecuteTime": {
     "end_time": "2020-10-26T08:23:28.320246Z",
     "start_time": "2020-10-26T08:23:28.311205Z"
    }
   },
   "outputs": [],
   "source": [
    "import configparser"
   ]
  },
  {
   "cell_type": "code",
   "execution_count": 2,
   "metadata": {
    "ExecuteTime": {
     "end_time": "2020-10-26T08:23:28.601254Z",
     "start_time": "2020-10-26T08:23:28.585254Z"
    }
   },
   "outputs": [],
   "source": [
    "class read_args:\n",
    "    def __init__(self):\n",
    "        self.config = configparser.ConfigParser()\n",
    "        self.config.read('./model_settings.txt')\n",
    "    \n",
    "    def set_args(self):\n",
    "        self.stock_code = self.config['model settings']['stock_code']\n",
    "        self.rl_method = self.config['model settings']['rl_method']\n",
    "        self.net = self.config['model settings']['net']\n",
    "        self.num_steps = int(self.config['model settings']['num_steps'])\n",
    "#         self.lr = float(self.config['model settings']['lr'])\n",
    "        self.output_name =  self.config['model settings']['output_name']\n",
    "#         self.num_epoches = self.config['model settings']['num_epoches']\n",
    "#         self.start_epsilon = self.config['model settings']['start_epsilon']\n",
    "        self.start_date = self.config['model settings']['start_date']\n",
    "#         self.end_date = self.config['model settings']['end_date']\n",
    "#         self.reuse_models = self.config['model settings']['reuse_models']\n",
    "        self.value_network_name = self.config['model settings']['value_network_name']\n",
    "        self.policy_network_name = self.config['model settings']['policy_network_name']"
   ]
  },
  {
   "cell_type": "code",
   "execution_count": 3,
   "metadata": {
    "ExecuteTime": {
     "end_time": "2020-10-26T08:23:28.912909Z",
     "start_time": "2020-10-26T08:23:28.895873Z"
    }
   },
   "outputs": [],
   "source": [
    "args = read_args()"
   ]
  },
  {
   "cell_type": "code",
   "execution_count": 4,
   "metadata": {
    "ExecuteTime": {
     "end_time": "2020-10-26T08:23:29.227571Z",
     "start_time": "2020-10-26T08:23:29.156379Z"
    }
   },
   "outputs": [
    {
     "ename": "AttributeError",
     "evalue": "'read_args' object has no attribute 'stock_code'",
     "output_type": "error",
     "traceback": [
      "\u001b[1;31m---------------------------------------------------------------------------\u001b[0m",
      "\u001b[1;31mAttributeError\u001b[0m                            Traceback (most recent call last)",
      "\u001b[1;32m<ipython-input-4-f6eac936d733>\u001b[0m in \u001b[0;36m<module>\u001b[1;34m\u001b[0m\n\u001b[1;32m----> 1\u001b[1;33m \u001b[0margs\u001b[0m\u001b[1;33m.\u001b[0m\u001b[0mstock_code\u001b[0m\u001b[1;33m\u001b[0m\u001b[1;33m\u001b[0m\u001b[0m\n\u001b[0m",
      "\u001b[1;31mAttributeError\u001b[0m: 'read_args' object has no attribute 'stock_code'"
     ]
    }
   ],
   "source": [
    "args.stock_code"
   ]
  },
  {
   "cell_type": "code",
   "execution_count": 5,
   "metadata": {
    "ExecuteTime": {
     "end_time": "2020-10-26T08:23:29.541688Z",
     "start_time": "2020-10-26T08:23:29.533691Z"
    }
   },
   "outputs": [],
   "source": [
    "args.set_args()"
   ]
  },
  {
   "cell_type": "code",
   "execution_count": 6,
   "metadata": {
    "ExecuteTime": {
     "end_time": "2020-10-26T08:23:33.457510Z",
     "start_time": "2020-10-26T08:23:33.446521Z"
    }
   },
   "outputs": [
    {
     "data": {
      "text/plain": [
       "'005930'"
      ]
     },
     "execution_count": 6,
     "metadata": {},
     "output_type": "execute_result"
    }
   ],
   "source": [
    "args.stock_code"
   ]
  },
  {
   "cell_type": "code",
   "execution_count": 1,
   "metadata": {
    "ExecuteTime": {
     "end_time": "2020-10-26T08:23:41.287019Z",
     "start_time": "2020-10-26T08:23:41.271888Z"
    }
   },
   "outputs": [],
   "source": [
    "import read_args"
   ]
  },
  {
   "cell_type": "code",
   "execution_count": 3,
   "metadata": {
    "ExecuteTime": {
     "end_time": "2020-10-26T08:23:44.375239Z",
     "start_time": "2020-10-26T08:23:44.368241Z"
    }
   },
   "outputs": [],
   "source": [
    "args = read_args.read_args()"
   ]
  },
  {
   "cell_type": "code",
   "execution_count": 4,
   "metadata": {
    "ExecuteTime": {
     "end_time": "2020-10-26T08:23:44.671080Z",
     "start_time": "2020-10-26T08:23:44.655084Z"
    }
   },
   "outputs": [],
   "source": [
    "args.set_args()"
   ]
  },
  {
   "cell_type": "code",
   "execution_count": 5,
   "metadata": {
    "ExecuteTime": {
     "end_time": "2020-10-26T08:23:45.173975Z",
     "start_time": "2020-10-26T08:23:45.151755Z"
    }
   },
   "outputs": [
    {
     "data": {
      "text/plain": [
       "'tensorflow'"
      ]
     },
     "execution_count": 5,
     "metadata": {},
     "output_type": "execute_result"
    }
   ],
   "source": [
    "args.backend"
   ]
  },
  {
   "cell_type": "code",
   "execution_count": 6,
   "metadata": {
    "ExecuteTime": {
     "end_time": "2020-10-26T08:23:45.676388Z",
     "start_time": "2020-10-26T08:23:45.667348Z"
    }
   },
   "outputs": [],
   "source": [
    "import json"
   ]
  },
  {
   "cell_type": "code",
   "execution_count": 7,
   "metadata": {
    "ExecuteTime": {
     "end_time": "2020-10-26T08:23:46.253316Z",
     "start_time": "2020-10-26T08:23:46.246318Z"
    }
   },
   "outputs": [],
   "source": [
    "del args.config"
   ]
  },
  {
   "cell_type": "code",
   "execution_count": 8,
   "metadata": {
    "ExecuteTime": {
     "end_time": "2020-10-26T08:23:46.629355Z",
     "start_time": "2020-10-26T08:23:46.619340Z"
    },
    "scrolled": true
   },
   "outputs": [
    {
     "data": {
      "text/plain": [
       "'{\"stock_code\": [\"005930\"], \"rl_method\": \"a2c\", \"net\": \"lstm\", \"num_steps\": 5, \"lr\": 0.01, \"discount_factor\": 0.9, \"start_epsilon\": 0, \"balance\": 10000000, \"num_epoches\": 1, \"delayed_reward_threshold\": 0.05, \"backend\": \"tensorflow\", \"output_name\": \"c_005930\", \"value_network_name\": \"a2c_lstm_policy_200ep_005930\", \"policy_network_name\": \"a2c_lstm_value_200ep_005930\", \"reuse_models\": true, \"learning\": false, \"start_date\": \"20190101\"}'"
      ]
     },
     "execution_count": 8,
     "metadata": {},
     "output_type": "execute_result"
    }
   ],
   "source": [
    "json.dumps(vars(args))"
   ]
  },
  {
   "cell_type": "code",
   "execution_count": null,
   "metadata": {},
   "outputs": [],
   "source": []
  }
 ],
 "metadata": {
  "hide_input": false,
  "kernelspec": {
   "display_name": "Python 3",
   "language": "python",
   "name": "python3"
  },
  "language_info": {
   "codemirror_mode": {
    "name": "ipython",
    "version": 3
   },
   "file_extension": ".py",
   "mimetype": "text/x-python",
   "name": "python",
   "nbconvert_exporter": "python",
   "pygments_lexer": "ipython3",
   "version": "3.7.9"
  },
  "toc": {
   "base_numbering": 1,
   "nav_menu": {},
   "number_sections": true,
   "sideBar": true,
   "skip_h1_title": false,
   "title_cell": "Table of Contents",
   "title_sidebar": "Contents",
   "toc_cell": false,
   "toc_position": {},
   "toc_section_display": true,
   "toc_window_display": false
  },
  "varInspector": {
   "cols": {
    "lenName": 16,
    "lenType": 16,
    "lenVar": 40
   },
   "kernels_config": {
    "python": {
     "delete_cmd_postfix": "",
     "delete_cmd_prefix": "del ",
     "library": "var_list.py",
     "varRefreshCmd": "print(var_dic_list())"
    },
    "r": {
     "delete_cmd_postfix": ") ",
     "delete_cmd_prefix": "rm(",
     "library": "var_list.r",
     "varRefreshCmd": "cat(var_dic_list()) "
    }
   },
   "types_to_exclude": [
    "module",
    "function",
    "builtin_function_or_method",
    "instance",
    "_Feature"
   ],
   "window_display": false
  }
 },
 "nbformat": 4,
 "nbformat_minor": 4
}
